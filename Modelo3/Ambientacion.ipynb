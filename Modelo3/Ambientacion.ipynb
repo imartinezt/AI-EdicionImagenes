{
 "cells": [
  {
   "cell_type": "markdown",
   "source": [],
   "metadata": {
    "collapsed": false
   },
   "id": "c9adca9b5e417a8c"
  },
  {
   "cell_type": "code",
   "execution_count": null,
   "outputs": [],
   "source": [
    "from google.colab import auth as google_auth\n",
    "google_auth.authenticate_user()"
   ],
   "metadata": {
    "collapsed": false
   },
   "id": "717d361d8d0fde07"
  },
  {
   "cell_type": "code",
   "execution_count": null,
   "outputs": [],
   "source": [
    "\n",
    "import argparse\n",
    "\n",
    "import vertexai\n",
    "from vertexai.preview.vision_models import Image, ImageGenerationModel\n",
    "\n",
    "def edit_image_inpainting_remove_mask_mode(\n",
    "    project_id: str,\n",
    "    location: str,\n",
    "    input_file: str,\n",
    "    mask_mode: str,\n",
    "    output_file: str,\n",
    "    prompt: str,\n",
    ") -> vertexai.preview.vision_models.ImageGenerationResponse:\n",
    "    \"\"\"Edit a local image by removing an object using a mask.\n",
    "    Args:\n",
    "      project_id: Google Cloud project ID, used to initialize Vertex AI.\n",
    "      location: Google Cloud region, used to initialize Vertex AI.\n",
    "      input_file: Local path to the input image file. Image can be in PNG or JPEG format.\n",
    "      mask_mode: Mask generation mode ('background', 'foreground', or 'semantic').\n",
    "      output_file: Local path to the output image file.\n",
    "      prompt: The optional text prompt describing what you want to see in the edited image.\n",
    "    \"\"\"\n",
    "\n",
    "    vertexai.init(project=project_id, location=location)\n",
    "\n",
    "    model = ImageGenerationModel.from_pretrained(\"imagegeneration@006\")\n",
    "    base_img = Image.load_from_file(location=input_file)\n",
    "\n",
    "    images = model.edit_image(\n",
    "        base_image=base_img,\n",
    "        mask_mode=mask_mode,\n",
    "        prompt=prompt,\n",
    "        edit_mode=\"inpainting-remove\",\n",
    "        # Optional parameters\n",
    "        # For semantic mask mode, define the segmentation class IDs:\n",
    "        # segmentation_classes=[7], # a cat\n",
    "        # See https://cloud.google.com/vertex-ai/generative-ai/docs/model-reference/image-generation#segment-ids.\n",
    "    )\n",
    "\n",
    "    images[0].save(location=output_file)\n",
    "\n",
    "    # Optional. View the edited image in a notebook.\n",
    "    images[0].show()\n",
    "\n",
    "    print(f\"Created output image using {len(images[0]._image_bytes)} bytes\")\n",
    "\n",
    "    return images\n"
   ],
   "metadata": {
    "collapsed": false
   },
   "id": "621c108453f517d6"
  },
  {
   "cell_type": "code",
   "execution_count": null,
   "outputs": [],
   "source": [
    "project_id = \"[PROJECT_ID]\"\n",
    "location = \"[LOCATION]\"\n",
    "input_file = \"/content/1118486435_3p.JPG\"\n",
    "mask_mode = \"background\"\n",
    "output_file = \"1118486435_3p.png\"\n",
    "prompt = \"Remove the background from this image, leaving only the foreground object isolated.\"\n",
    "\n",
    "imgs = edit_image_inpainting_remove_mask_mode(\n",
    "    project_id=project_id,\n",
    "    location=location,\n",
    "    input_file=input_file,\n",
    "    mask_mode=mask_mode,\n",
    "    output_file=output_file,\n",
    "    prompt=prompt,\n",
    ")"
   ],
   "metadata": {
    "collapsed": false
   },
   "id": "c8ae2df1653b2e67"
  }
 ],
 "metadata": {
  "kernelspec": {
   "display_name": "Python 3",
   "language": "python",
   "name": "python3"
  },
  "language_info": {
   "codemirror_mode": {
    "name": "ipython",
    "version": 2
   },
   "file_extension": ".py",
   "mimetype": "text/x-python",
   "name": "python",
   "nbconvert_exporter": "python",
   "pygments_lexer": "ipython2",
   "version": "2.7.6"
  }
 },
 "nbformat": 4,
 "nbformat_minor": 5
}
